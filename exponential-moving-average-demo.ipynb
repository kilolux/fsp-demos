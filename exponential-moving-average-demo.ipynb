{
 "cells": [
  {
   "cell_type": "markdown",
   "metadata": {},
   "source": [
    "# Exponential Moving Average Demo"
   ]
  },
  {
   "cell_type": "markdown",
   "metadata": {},
   "source": [
    "In this notebook, we will demonstrate how an exponential moving average is calculated. We will plot exponential moving average (EMA) lines of different periods and alpha decay ratios to show how changing these values changes the characteristics of the EMA.\n",
    "\n",
    "[Moving Averages on Wikipedia](https://en.wikipedia.org/wiki/Moving_average)"
   ]
  },
  {
   "cell_type": "markdown",
   "metadata": {},
   "source": [
    "## Exponential Moving Average (EMA) Approximation\n",
    "The non-recursive approximation equation for exponential moving average is:\n",
    "\n",
    "EMA_today = numerator / denominator\n",
    "\n",
    "numerator   = p1 + (1-a) * p2 + (1-a)<sup>2</sup> * p3 + (1-a)<sup>3</sup> * p4 + (1-a)<sup>4</sup> * p5 + ...\n",
    "\n",
    "denominator = 1  +  (1-a)  +  (1-a)<sup>2</sup>  +  (1-a)<sup>3</sup>  +  (1-a)<sup>4</sup>  +  ...\n",
    "\n",
    "Where p1 is the value TODAY, p2 is the value YESTERDAY, and so on.\n",
    "\n",
    "And a is the rate of decay (a constant between 0 and 1)."
   ]
  },
  {
   "cell_type": "markdown",
   "metadata": {},
   "source": [
    "## Libraries"
   ]
  },
  {
   "cell_type": "code",
   "execution_count": 1,
   "metadata": {},
   "outputs": [],
   "source": [
    "import matplotlib.pyplot as plt\n",
    "import numpy as np"
   ]
  },
  {
   "cell_type": "markdown",
   "metadata": {},
   "source": [
    "## Exploring alpha decay"
   ]
  },
  {
   "cell_type": "markdown",
   "metadata": {},
   "source": [
    "What does alpha decay in the first 20 coefficents really look like for a=0.1 and a=0.5?\n",
    "\n",
    "bottom = 1 + (1-a) + (1-a)^2 + (1-a)^3 + ..."
   ]
  },
  {
   "cell_type": "code",
   "execution_count": 2,
   "metadata": {},
   "outputs": [
    {
     "name": "stdout",
     "output_type": "stream",
     "text": [
      "[ 0  1  2  3  4  5  6  7  8  9 10 11 12 13 14 15 16 17 18 19]\n",
      "y: 0.001953125\n"
     ]
    },
    {
     "data": {
      "image/png": "[encoded data removed]",
      "text/plain": [
       "<Figure size 432x288 with 1 Axes>"
      ]
     },
     "metadata": {
      "needs_background": "light"
     },
     "output_type": "display_data"
    }
   ],
   "source": [
    "qq = np.arange(20)\n",
    "\n",
    "print(qq)\n",
    "alpha = 0.5\n",
    "def getCof(data, alpha, index):\n",
    "    exponent = data[index]\n",
    "    term = (1-alpha)**exponent\n",
    "    return term\n",
    "\n",
    "def getCofList(data, alpha):\n",
    "    cofs = []\n",
    "    i = 0\n",
    "    while i < len(data):\n",
    "        cof = getCof(data, alpha, i)\n",
    "        cofs.append(cof)\n",
    "        i = i + 1\n",
    "    return cofs\n",
    "    \n",
    "y = getCof(qq, alpha, 9)\n",
    "print(\"y:\", y)\n",
    "cof_05 = getCofList(qq, 0.5)\n",
    "#print(\"cof_05:\", cof_05)\n",
    "\n",
    "cof_01 = getCofList(qq, 0.1)\n",
    "\n",
    "plt.figure(3)\n",
    "plt.scatter(qq, cof_01)\n",
    "plt.bar(qq, cof_05)\n",
    "title = \"BlueCircles(a=0.1), OrangeBars(a=0.5)  Larger alpha weights recent prices much stronger.\"\n",
    "plt.title(title)\n",
    "plt.show()\n"
   ]
  },
  {
   "cell_type": "markdown",
   "metadata": {},
   "source": [
    "## Relationship Between alpha and period\n",
    "For large alpha values, only a small period is needed since the oldest values will have a very small coefficient.\n",
    "\n",
    "For small alpha values, a larger period is needed since more values will have a significantly large coefficient.\n",
    "\n",
    "A commonly used equation to relate alpha to period is:\n",
    "\n",
    "alpha = 2 / ( period + 1 )\n",
    "\n",
    "Or written another way:\n",
    "\n",
    "period = ( 2 / alpha ) - 1\n",
    "\n",
    "This equation allows us to easily compare the exponential moving average to a simple moving average because they can be both written with only the period number."
   ]
  },
  {
   "cell_type": "code",
   "execution_count": 3,
   "metadata": {},
   "outputs": [
    {
     "ename": "NameError",
     "evalue": "name 'getTimeline' is not defined",
     "output_type": "error",
     "traceback": [
      "\u001b[0;31m---------------------------------------------------------------------------\u001b[0m",
      "\u001b[0;31mNameError\u001b[0m                                 Traceback (most recent call last)",
      "\u001b[0;32m<ipython-input-3-b24dbc9d9dcc>\u001b[0m in \u001b[0;36m<module>\u001b[0;34m\u001b[0m\n\u001b[1;32m      2\u001b[0m            \u001b[0;36m1\u001b[0m\u001b[0;34m,\u001b[0m \u001b[0;36m0\u001b[0m\u001b[0;34m,\u001b[0m \u001b[0;36m2\u001b[0m\u001b[0;34m,\u001b[0m \u001b[0;36m3\u001b[0m\u001b[0;34m,\u001b[0m \u001b[0;36m8\u001b[0m\u001b[0;34m,\u001b[0m \u001b[0;36m7\u001b[0m\u001b[0;34m,\u001b[0m \u001b[0;36m9\u001b[0m\u001b[0;34m,\u001b[0m \u001b[0;36m6\u001b[0m\u001b[0;34m,\u001b[0m \u001b[0;36m7\u001b[0m\u001b[0;34m,\u001b[0m \u001b[0;36m5\u001b[0m\u001b[0;34m,\u001b[0m \u001b[0;36m9\u001b[0m\u001b[0;34m,\u001b[0m \u001b[0;36m4\u001b[0m\u001b[0;34m,\u001b[0m \u001b[0;36m6\u001b[0m\u001b[0;34m,\u001b[0m \u001b[0;36m7\u001b[0m\u001b[0;34m,\u001b[0m \u001b[0;36m7\u001b[0m\u001b[0;34m,\u001b[0m \u001b[0;36m6\u001b[0m\u001b[0;34m,\u001b[0m \u001b[0;36m6\u001b[0m\u001b[0;34m,\u001b[0m \u001b[0;36m8\u001b[0m\u001b[0;34m,\u001b[0m \u001b[0;36m9\u001b[0m\u001b[0;34m,\u001b[0m \u001b[0;36m4\u001b[0m\u001b[0;34m,\u001b[0m\u001b[0;34m\u001b[0m\u001b[0;34m\u001b[0m\u001b[0m\n\u001b[1;32m      3\u001b[0m            4, 5, 5, 6, 7, 8, 9, 8, 9, 10, 11, 12, 10, 11, 12, 9, 4, 3]\n\u001b[0;32m----> 4\u001b[0;31m \u001b[0mx\u001b[0m \u001b[0;34m=\u001b[0m \u001b[0mgetTimeline\u001b[0m\u001b[0;34m(\u001b[0m\u001b[0mlen\u001b[0m\u001b[0;34m(\u001b[0m\u001b[0mbigData\u001b[0m\u001b[0;34m)\u001b[0m\u001b[0;34m)\u001b[0m\u001b[0;34m\u001b[0m\u001b[0;34m\u001b[0m\u001b[0m\n\u001b[0m\u001b[1;32m      5\u001b[0m \u001b[0mprint\u001b[0m\u001b[0;34m(\u001b[0m\u001b[0;34m\"A Larger alpha responds faster to price, and is less smooth\"\u001b[0m\u001b[0;34m)\u001b[0m\u001b[0;34m\u001b[0m\u001b[0;34m\u001b[0m\u001b[0m\n\u001b[1;32m      6\u001b[0m \u001b[0mprint\u001b[0m\u001b[0;34m(\u001b[0m\u001b[0;34m\"given the same number of terms.\"\u001b[0m\u001b[0;34m)\u001b[0m\u001b[0;34m\u001b[0m\u001b[0;34m\u001b[0m\u001b[0m\n",
      "\u001b[0;31mNameError\u001b[0m: name 'getTimeline' is not defined"
     ]
    }
   ],
   "source": [
    "bigData = [1, 0, 2, 3, 8, 7, 9, 6, 7, 5, 9, 4, 6, 7, 7, 6, 6, 8, 9, 4, \n",
    "           1, 0, 2, 3, 8, 7, 9, 6, 7, 5, 9, 4, 6, 7, 7, 6, 6, 8, 9, 4,\n",
    "           4, 5, 5, 6, 7, 8, 9, 8, 9, 10, 11, 12, 10, 11, 12, 9, 4, 3]\n",
    "x = getTimeline(len(bigData))\n",
    "print(\"A Larger alpha responds faster to price, and is less smooth\")\n",
    "print(\"given the same number of terms.\")\n",
    "plt.figure(1)\n",
    "plt.plot(x, bigData)\n",
    "ema_data_01_15 = getEMAdataset(bigData, 0.1, 15)\n",
    "plt.plot(x, ema_data_01_15)\n",
    "ema_data_05_15 = getEMAdataset(bigData, 0.5, 15)\n",
    "plt.plot(x, ema_data_05_15)\n",
    "title = \"Price:Blue, EMA(a=0.5):Green, EMA(a=0.1):Orange\"\n",
    "plt.title(title)\n",
    "plt.show()"
   ]
  },
  {
   "cell_type": "code",
   "execution_count": null,
   "metadata": {},
   "outputs": [],
   "source": [
    "testData = [1, 0, 2, 3, 8]\n",
    "\n",
    "def getTimeline(end):\n",
    "    x = np.arange(end)\n",
    "    return x\n",
    "\n",
    "def getBottom(a, number_of_terms):\n",
    "    # bottom = 1 + (1-a) + (1-a)^2 + (1-a)^3 + ...\n",
    "    i = 0\n",
    "    total = 0\n",
    "    while i < number_of_terms:\n",
    "        term = (1-a)**i\n",
    "        total = total + term\n",
    "        i = i + 1\n",
    "    return total\n",
    "\n",
    "#test_bottom = getBottom(0.5, 3)\n",
    "#print(\"test_bottom:\", test_bottom)\n",
    "\n",
    "def getTop(price_data, price_data_index, a, number_of_terms):\n",
    "    # top = p1 + (1-a)*p2 + (1-a)^2*p3 + (1-a)^3*p4 + ...\n",
    "    i = 0\n",
    "    total = 0\n",
    "    while i < number_of_terms:\n",
    "        #print(\"term number:\", i)\n",
    "        price = price_data[price_data_index - i]\n",
    "        #print(\"price:\", price)\n",
    "        cof = (1-a)**i\n",
    "        #print(\"cof:\", cof)\n",
    "        term = price * cof\n",
    "        #print(\"term:\", term)\n",
    "        #print(\" \")\n",
    "        total = total + term\n",
    "        i = i + 1\n",
    "    return total\n",
    "\n",
    "#test_top = getTop(testData,2, 0.5, 3)\n",
    "#print(\"test_top:\", test_top)\n",
    "\n",
    "def getEMA(price_data, price_data_index, alpha, number_of_terms):\n",
    "    #print(\"index:\",price_data_index,\"alpha:\",alpha,\"number_of_terms:\",number_of_terms)\n",
    "    if (number_of_terms - price_data_index) > 1:\n",
    "        #print(\"too many terms for this index\")\n",
    "        return 0\n",
    "    else:\n",
    "        top = getTop(price_data, price_data_index, alpha, number_of_terms)\n",
    "        bottom = getBottom(alpha, number_of_terms)\n",
    "        #print(\"top:\", top)\n",
    "        #print(\"bottom:\", bottom)\n",
    "        EMA = top / bottom\n",
    "        return EMA\n",
    "\n",
    "test_EMA = getEMA(testData, 2, 0.5, 2)\n",
    "print(\"correct answer: top=2, bottom=1.5, EMA=1.333\")\n",
    "print(\"test_EMA:\", test_EMA)\n",
    "print(\" \")\n",
    "\n",
    "test_EMA = getEMA(testData, 2, 0.5, 3)\n",
    "print(\"correct answer: top=2.25, bottom=1.75, EMA=1.286\")\n",
    "print(\"test_EMA:\", test_EMA)\n",
    "print(\" \")\n",
    "\n",
    "test_EMA = getEMA(testData, 2, 0.5, 4)\n",
    "print(\"correct answer: EMA=0 because #terms(4) - index(2) > 1\")\n",
    "\n",
    "print(\"test_EMA:\", test_EMA)\n",
    "print(\" \")\n",
    "\n",
    "\n",
    "def getEMAdataset(price_data, alpha, number_of_terms):\n",
    "    ema_data = []\n",
    "    i = 0\n",
    "    while i < len(price_data):\n",
    "        datum = getEMA(price_data, i, alpha, number_of_terms)\n",
    "        ema_data.append(datum)\n",
    "        i = i + 1\n",
    "    return ema_data\n",
    "\n"
   ]
  },
  {
   "cell_type": "code",
   "execution_count": null,
   "metadata": {},
   "outputs": [],
   "source": [
    "plt.figure(2)\n",
    "print(\"A larger number of terms is smoother than a small number with same alpha.\")\n",
    "plt.plot(x, bigData)\n",
    "ema_data_01_10 = getEMAdataset(bigData, 0.1, 10)\n",
    "plt.plot(x, ema_data_01_10)\n",
    "ema_data_01_30 = getEMAdataset(bigData, 0.1, 30)\n",
    "plt.plot(x, ema_data_01_30)\n",
    "title = \"Price:Blue, EMA(30):Green, EMA(10):Orange\"\n",
    "plt.title(title)\n",
    "plt.show()"
   ]
  },
  {
   "cell_type": "code",
   "execution_count": null,
   "metadata": {},
   "outputs": [],
   "source": []
  }
 ],
 "metadata": {
  "kernelspec": {
   "display_name": "Python 3",
   "language": "python",
   "name": "python3"
  },
  "language_info": {
   "codemirror_mode": {
    "name": "ipython",
    "version": 3
   },
   "file_extension": ".py",
   "mimetype": "text/x-python",
   "name": "python",
   "nbconvert_exporter": "python",
   "pygments_lexer": "ipython3",
   "version": "3.7.4"
  }
 },
 "nbformat": 4,
 "nbformat_minor": 2
}
