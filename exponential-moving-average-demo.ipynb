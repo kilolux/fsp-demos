{
 "cells": [
  {
   "cell_type": "markdown",
   "metadata": {},
   "source": [
    "# Exponential Moving Average Demo"
   ]
  },
  {
   "cell_type": "markdown",
   "metadata": {},
   "source": [
    "In this notebook, we will demonstrate how an exponential moving average is calculated. We will plot exponential moving average (EMA) lines of different periods and alpha decay ratios to show how changing these values changes the characteristics of the EMA.\n",
    "\n",
    "[Moving Averages on Wikipedia](https://en.wikipedia.org/wiki/Moving_average)"
   ]
  },
  {
   "cell_type": "markdown",
   "metadata": {},
   "source": [
    "## Libraries"
   ]
  },
  {
   "cell_type": "code",
   "execution_count": 1,
   "metadata": {},
   "outputs": [],
   "source": [
    "import matplotlib.pyplot as plt\n",
    "import numpy as np\n",
    "# We also use the unittest library, which is imported in the testing cell."
   ]
  },
  {
   "cell_type": "markdown",
   "metadata": {},
   "source": [
    "## Alpha Decay Functions"
   ]
  },
  {
   "cell_type": "markdown",
   "metadata": {},
   "source": [
    "The value of each coefficient is shown in the series:\n",
    "\n",
    "a + a*(1-a) + a*(1-a)<sup>2</sup> + a*(1-a)<sup>3</sup> + a*(1-a)<sup>4</sup> + ..."
   ]
  },
  {
   "cell_type": "code",
   "execution_count": 2,
   "metadata": {},
   "outputs": [],
   "source": [
    "# Returns the single coefficient for a given index and alpha decay.\n",
    "def getCof(data, alpha, index):\n",
    "    exponent = data[index]\n",
    "    term = alpha * (1-alpha)**exponent\n",
    "    return term\n",
    "\n",
    "# Returns the list of coefficients for every index in the given data and alpha decay.\n",
    "def getCofList(data, alpha):\n",
    "    cofs = []\n",
    "    i = 0\n",
    "    while i < len(data):\n",
    "        cof = getCof(data, alpha, i)\n",
    "        cofs.append(cof)\n",
    "        i = i + 1\n",
    "    return cofs"
   ]
  },
  {
   "cell_type": "markdown",
   "metadata": {},
   "source": [
    "## Plotting Alpha Decay"
   ]
  },
  {
   "cell_type": "code",
   "execution_count": 3,
   "metadata": {},
   "outputs": [
    {
     "name": "stdout",
     "output_type": "stream",
     "text": [
      "Sum of the first 10 coefficients with alpha 0.5: 0.9990234375\n",
      "Sum of the first 10 coefficients with alpha 0.1: 0.6513215599000001\n"
     ]
    },
    {
     "data": {
      "image/png": "[encoded data removed]",
      "text/plain": [
       "<Figure size 432x288 with 1 Axes>"
      ]
     },
     "metadata": {
      "needs_background": "light"
     },
     "output_type": "display_data"
    }
   ],
   "source": [
    "alphaTestData = np.arange(10)\n",
    "cof_05 = getCofList(alphaTestData, 0.5)\n",
    "cof_01 = getCofList(alphaTestData, 0.1)\n",
    "cof_sum_05 = sum(cof_05)\n",
    "cof_sum_01 = sum(cof_01)\n",
    "print(\"Sum of the first 10 coefficients with alpha 0.5:\", cof_sum_05)\n",
    "print(\"Sum of the first 10 coefficients with alpha 0.1:\", cof_sum_01)\n",
    "\n",
    "# create plot\n",
    "fig, ax = plt.subplots()\n",
    "\n",
    "bar_width = 0.4\n",
    "opacity = 0.8\n",
    "\n",
    "# create bar graph groups\n",
    "rects1 = plt.bar(alphaTestData, cof_05, bar_width,\n",
    "alpha=opacity,\n",
    "color='c',\n",
    "label='alpha:0.5')\n",
    "\n",
    "rects2 = plt.bar(alphaTestData + bar_width, cof_01, bar_width,\n",
    "alpha=opacity,\n",
    "color='orange',\n",
    "label='alpha:0.1')\n",
    "\n",
    "plt.xlabel('Term')\n",
    "plt.ylabel('Coefficient')\n",
    "plt.title('Alpha Decay')\n",
    "plt.legend()\n",
    "\n",
    "plt.tight_layout()\n",
    "plt.show()"
   ]
  },
  {
   "cell_type": "markdown",
   "metadata": {},
   "source": [
    "In the above plot, we see the relative size of the first 20 coefficients with different alpha values. Each coefficient acts as a weight when multiplied with the signal (value) time series.\n",
    "\n",
    "**Alpha = 0.5**\n",
    "- Strongly weights the first (most recent) few values.\n",
    "- 99.9% of the total weight is allocated to the first 10 coefficients.\n",
    "\n",
    "**Alpha = 0.1**\n",
    "- Has a slow decrease in weight from recent to older values.\n",
    "- Only 65% of the total weight is allocated to the first 10 coefficients.\n",
    "\n",
    "We can also see that the first coefficient for any series will be equal to alpha.\n",
    "\n",
    "In the Alpha = 0.1 plot, we will need to use more than 10 coefficients to accurately cover a large percentage of the weight. In fact, we have a smart way of relating alpha and the number of needed coefficients (called the period)."
   ]
  },
  {
   "cell_type": "markdown",
   "metadata": {},
   "source": [
    "## Relationship Between alpha and period\n",
    "For *large* alpha values, only a *small* period is needed since the oldest values will have a very small coefficient. Conversely, for *small* alpha values, a *larger* period is needed since more values will have a significantly large coefficient.\n",
    "\n",
    "A commonly used equation to relate alpha to period is:\n",
    "\n",
    "**alpha = 2 / ( period + 1 )**\n",
    "\n",
    "Or written another way:\n",
    "\n",
    "**period = ( 2 / alpha ) - 1**\n",
    "\n",
    "This equation allows us to easily compare the exponential moving average to a simple moving average because they can be both written with only the period number. Additionally, using this equation allows us to balance accuracy in the approximation of the EMA with efficiency of not calculating terms that have very low weight.\n",
    "\n",
    "The simple moving average (SMA) is described using the length of the period that is averaged. In order to easily compare SMAs and EMAs, we want to describe the EMA using only the period, and infer the alpha."
   ]
  },
  {
   "cell_type": "code",
   "execution_count": 4,
   "metadata": {},
   "outputs": [],
   "source": [
    "# Calculate the alpha value for a desired period.\n",
    "def calculateAlpha(ema_period):\n",
    "    alpha = 2.0 / (ema_period + 1)\n",
    "    return alpha\n"
   ]
  },
  {
   "cell_type": "markdown",
   "metadata": {},
   "source": [
    "## Exponential Moving Average (EMA) Approximation\n",
    "As written in the below functions, the non-recursive approximation equation for exponential moving average is:\n",
    "\n",
    "EMA_today = numerator / denominator\n",
    "\n",
    "numerator   = p1 + (1-a) * p2 + (1-a)<sup>2</sup> * p3 + (1-a)<sup>3</sup> * p4 + (1-a)<sup>4</sup> * p5 + ...\n",
    "\n",
    "denominator = 1  +  (1-a)  +  (1-a)<sup>2</sup>  +  (1-a)<sup>3</sup>  +  (1-a)<sup>4</sup>  +  ...\n",
    "\n",
    "Where p1 is the value at the most recent time step (*today*), p2 is the value at the next most recent time step (*yesterday*), and so on.\n",
    "\n",
    "And a is the rate of decay (a constant between 0 and 1)."
   ]
  },
  {
   "cell_type": "code",
   "execution_count": 5,
   "metadata": {
    "scrolled": false
   },
   "outputs": [],
   "source": [
    "# Returns the denominator\n",
    "def getDenominator(number_of_terms):\n",
    "    # bottom = 1 + (1-a) + (1-a)^2 + (1-a)^3 + ...\n",
    "    a = calculateAlpha(number_of_terms)\n",
    "    i = 0\n",
    "    total = 0\n",
    "    while i < number_of_terms:\n",
    "        term = (1-a)**i\n",
    "        total = total + term\n",
    "        i = i + 1\n",
    "    return total\n",
    "\n",
    "\n",
    "# Returns the numerator\n",
    "def getNumerator(price_data, price_data_index, number_of_terms):\n",
    "    # top = p1 + (1-a)*p2 + (1-a)^2*p3 + (1-a)^3*p4 + ...\n",
    "    a = calculateAlpha(number_of_terms)\n",
    "    i = 0\n",
    "    total = 0\n",
    "    while i < number_of_terms:\n",
    "        price = price_data[price_data_index - i]\n",
    "        cof = (1-a)**i\n",
    "        term = price * cof\n",
    "        total = total + term\n",
    "        i = i + 1\n",
    "    return total\n",
    "\n",
    "\n",
    "# Returns a single Exponential Moving Average value.\n",
    "def getEMA(price_data, price_data_index, number_of_terms):\n",
    "    if (number_of_terms - price_data_index) > 1:\n",
    "        # There are too many terms for the given index.\n",
    "        return 0\n",
    "    else:\n",
    "        top = getNumerator(price_data, price_data_index, number_of_terms)\n",
    "        #print(\"\")\n",
    "        #print(\"top:\", top)\n",
    "        bottom = getDenominator(number_of_terms)\n",
    "        #print(\"bottom:\", bottom)\n",
    "        EMA = top / bottom\n",
    "        return EMA\n",
    "\n",
    "    \n",
    "# Returns a list of all EMA values.\n",
    "def getEMAdataset(price_data, number_of_terms):\n",
    "    ema_data = []\n",
    "    i = 0\n",
    "    while i < len(price_data):\n",
    "        datum = getEMA(price_data, i, number_of_terms)\n",
    "        ema_data.append(datum)\n",
    "        i = i + 1\n",
    "    return ema_data\n"
   ]
  },
  {
   "cell_type": "markdown",
   "metadata": {},
   "source": [
    "## Plotting Function"
   ]
  },
  {
   "cell_type": "code",
   "execution_count": 6,
   "metadata": {},
   "outputs": [],
   "source": [
    "# Plots 3 lines: raw data, EMA(period_1), EMA(period_2)\n",
    "def calculateAndPlotEMA(data, ema_period_1, ema_period_2):\n",
    "    ema_1 = getEMAdataset(data, ema_period_1)\n",
    "    ema_2 = getEMAdataset(data, ema_period_2)\n",
    "    x = np.arange(len(data))\n",
    "    plt.plot(x, data)\n",
    "    plt.plot(x, ema_1)\n",
    "    plt.plot(x, ema_2)\n",
    "    ema_legend_text_1 = \"EMA(\" + str(ema_period_1) + \")\"\n",
    "    ema_legend_text_2 = \"EMA(\" + str(ema_period_2) + \")\"\n",
    "    plt.legend(['Value', ema_legend_text_1, ema_legend_text_2])\n",
    "    plt.title(\"Exponential Moving Averages\")\n",
    "    plt.show()\n",
    "    "
   ]
  },
  {
   "cell_type": "markdown",
   "metadata": {},
   "source": [
    "## Sine Wave Function"
   ]
  },
  {
   "cell_type": "code",
   "execution_count": 7,
   "metadata": {},
   "outputs": [],
   "source": [
    "# Generates a sine wave.\n",
    "def generateSineWave(period, amplitude, sigma, end):\n",
    "    # Equations\n",
    "    alpha = amplitude / 2.0\n",
    "    beta = 2.0 * np.pi / period\n",
    "    frequency = 1.0 / period\n",
    "    x = np.arange(end + 1)\n",
    "    \n",
    "    # Formula\n",
    "    y = alpha * np.sin(beta * x) + sigma\n",
    "    return y\n"
   ]
  },
  {
   "cell_type": "markdown",
   "metadata": {},
   "source": [
    "## Result Plots"
   ]
  },
  {
   "cell_type": "code",
   "execution_count": 8,
   "metadata": {},
   "outputs": [
    {
     "data": {
      "image/png": "[encoded data removed]",
      "text/plain": [
       "<Figure size 432x288 with 1 Axes>"
      ]
     },
     "metadata": {
      "needs_background": "light"
     },
     "output_type": "display_data"
    }
   ],
   "source": [
    "# Sine Wave Inputs\n",
    "period = 50.0\n",
    "amplitude = 2.0\n",
    "sigma = 2.0\n",
    "start = 0.0\n",
    "end = 100.0\n",
    "sineData = generateSineWave(period, amplitude, sigma, end)\n",
    "calculateAndPlotEMA(sineData, 20, 40)\n"
   ]
  },
  {
   "cell_type": "code",
   "execution_count": 9,
   "metadata": {},
   "outputs": [
    {
     "data": {
      "image/png": "[encoded data removed]",
      "text/plain": [
       "<Figure size 432x288 with 1 Axes>"
      ]
     },
     "metadata": {
      "needs_background": "light"
     },
     "output_type": "display_data"
    }
   ],
   "source": [
    "# Using some fictional data.\n",
    "finalData = [1, 0, 2, 3, 8, 7, 9, 6, 7, 5, 9, 4, 6, 7, 7, 6, 6, 8, 9, 4, \n",
    "           1, 0, 2, 3, 8, 7, 9, 6, 7, 5, 9, 4, 6, 7, 7, 6, 6, 8, 9, 4,\n",
    "           4, 5, 5, 6, 7, 8, 9, 8, 9, 10, 11, 12, 10, 11, 12, 9, 4, 3]\n",
    "calculateAndPlotEMA(finalData, 5, 20)\n"
   ]
  },
  {
   "cell_type": "markdown",
   "metadata": {},
   "source": [
    "## Function Testing Suite"
   ]
  },
  {
   "cell_type": "code",
   "execution_count": 10,
   "metadata": {},
   "outputs": [
    {
     "name": "stderr",
     "output_type": "stream",
     "text": [
      "test_calculateAlpha_almostEqual (__main__.TestNotebook) ... ok\n",
      "test_calculateAlpha_equal (__main__.TestNotebook) ... ok\n",
      "test_getCof (__main__.TestNotebook) ... ok\n",
      "test_getCofList (__main__.TestNotebook) ... ok\n",
      "test_getDenominator (__main__.TestNotebook) ... ok\n",
      "test_getEMA (__main__.TestNotebook) ... ok\n",
      "test_getEMAdataset (__main__.TestNotebook) ... ok\n",
      "test_getNumerator (__main__.TestNotebook) ... ok\n",
      "test_sineWave (__main__.TestNotebook) ... ok\n",
      "\n",
      "----------------------------------------------------------------------\n",
      "Ran 9 tests in 0.013s\n",
      "\n",
      "OK\n"
     ]
    },
    {
     "data": {
      "text/plain": [
       "<unittest.main.TestProgram at 0x7fa53def1090>"
      ]
     },
     "execution_count": 10,
     "metadata": {},
     "output_type": "execute_result"
    }
   ],
   "source": [
    "import unittest\n",
    "\n",
    "class TestNotebook(unittest.TestCase):\n",
    "    \n",
    "    def test_calculateAlpha_equal(self):\n",
    "        # This test has a precise answer so it can use assertEqual\n",
    "        self.assertEqual(calculateAlpha(9), 0.2)\n",
    "        self.assertEqual(calculateAlpha(3), 0.5)\n",
    "        \n",
    "    def test_calculateAlpha_almostEqual(self):\n",
    "        # Correct answers need to have 1 more decimal place than the \"places\" variable.\n",
    "        self.assertAlmostEqual(calculateAlpha(100), 0.01980198, places=7)   \n",
    "        self.assertAlmostEqual(calculateAlpha(2), 0.66666666, places=7)\n",
    "    \n",
    "    def test_sineWave(self):\n",
    "        sineWaveArray = generateSineWave(8, 2.0, 0.0, 8)\n",
    "        self.assertAlmostEqual(sineWaveArray[2], 1.0)\n",
    "        self.assertAlmostEqual(sineWaveArray[4], 0.0)\n",
    "        self.assertAlmostEqual(sineWaveArray[6], -1.0)\n",
    "        self.assertAlmostEqual(sineWaveArray[8], 0.0)\n",
    "        \n",
    "    def test_getCof(self):\n",
    "        alphaTestData = np.arange(10)\n",
    "        self.assertEqual(getCof(alphaTestData, 0.5, 0), 0.5)\n",
    "        self.assertEqual(getCof(alphaTestData, 0.5, 3), 0.0625)\n",
    "        \n",
    "    def test_getCofList(self):\n",
    "        cofListData = np.arange(4)\n",
    "        self.assertEqual(getCofList(cofListData, 0.5), [0.5, 0.25, 0.125, 0.0625])\n",
    "        \n",
    "    def test_getDenominator(self):\n",
    "        self.assertEqual(getDenominator(3), 1.75)\n",
    "        \n",
    "    def test_getNumerator(self):\n",
    "        shortData = [1, 0, 2, 3, 8]\n",
    "        self.assertEqual(getNumerator(shortData, 2, 3), 2.25)\n",
    "        \n",
    "    def test_getEMA(self):\n",
    "        shortData = [1, 0, 2, 3, 8]\n",
    "        self.assertAlmostEqual(getEMA(shortData, 4, 2), 6.74999999)\n",
    "        self.assertAlmostEqual(getEMA(shortData, 4, 5), 4.25592417)\n",
    "        data100 = np.ones(100) * 10.0\n",
    "        self.assertEqual(getEMA(data100, 1, 2), 10.0)\n",
    "        self.assertAlmostEqual(getEMA(data100, 99, 100), 10.0)\n",
    "        \n",
    "    def test_getEMAdataset(self):\n",
    "        shortData = [1, 0, 2, 3, 8]\n",
    "        self.assertEqual(getEMAdataset(shortData, 1), shortData)\n",
    "        self.assertEqual(getEMAdataset(shortData, 2),[0, 0.25, 1.4999999999999998, 2.75, 6.749999999999999])\n",
    "        \n",
    "\n",
    " \n",
    "# Run the tests.\n",
    "unittest.main(argv=[''], verbosity=2, exit=False)"
   ]
  }
 ],
 "metadata": {
  "kernelspec": {
   "display_name": "Python 3",
   "language": "python",
   "name": "python3"
  },
  "language_info": {
   "codemirror_mode": {
    "name": "ipython",
    "version": 3
   },
   "file_extension": ".py",
   "mimetype": "text/x-python",
   "name": "python",
   "nbconvert_exporter": "python",
   "pygments_lexer": "ipython3",
   "version": "3.7.4"
  }
 },
 "nbformat": 4,
 "nbformat_minor": 2
}
