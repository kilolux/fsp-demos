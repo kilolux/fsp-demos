{
 "cells": [
  {
   "cell_type": "markdown",
   "metadata": {},
   "source": [
    "# Polynomial Regression Example\n",
    "This notebook will show an example of using linear regression to find the coefficients of polynomial data (y = a0 + a1*x + a2*x^2 + a3*x^3)."
   ]
  },
  {
   "cell_type": "markdown",
   "metadata": {},
   "source": [
    "## Imports"
   ]
  },
  {
   "cell_type": "code",
   "execution_count": 1,
   "metadata": {},
   "outputs": [
    {
     "name": "stdout",
     "output_type": "stream",
     "text": [
      "Imports Finished.\n"
     ]
    }
   ],
   "source": [
    "# Imports\n",
    "#import math # Testing values.\n",
    "import matplotlib.pyplot as plt # Plotting graphs.\n",
    "import pandas as pd # Data manipulation.\n",
    "import seaborn as sns; sns.set() # Only used for styling plots.\n",
    "import numpy as np # Arrays and matrices.\n",
    "import random # Generating data and error values.\n",
    "\n",
    "from sklearn.pipeline import Pipeline # Polynomial regression tools.\n",
    "from sklearn.preprocessing import PolynomialFeatures # Polynomial regression tools.\n",
    "from sklearn.model_selection import train_test_split # Data tools.\n",
    "from sklearn.linear_model import LinearRegression # Linear regression.\n",
    "from sklearn import metrics # Scoring our model.\n",
    "\n",
    "%matplotlib inline\n",
    "\n",
    "print(\"Imports Finished.\")"
   ]
  },
  {
   "cell_type": "markdown",
   "metadata": {},
   "source": [
    "## Data Generation"
   ]
  },
  {
   "cell_type": "code",
   "execution_count": 2,
   "metadata": {},
   "outputs": [
    {
     "data": {
      "text/html": [
       "<div>\n",
       "<style scoped>\n",
       "    .dataframe tbody tr th:only-of-type {\n",
       "        vertical-align: middle;\n",
       "    }\n",
       "\n",
       "    .dataframe tbody tr th {\n",
       "        vertical-align: top;\n",
       "    }\n",
       "\n",
       "    .dataframe thead th {\n",
       "        text-align: right;\n",
       "    }\n",
       "</style>\n",
       "<table border=\"1\" class=\"dataframe\">\n",
       "  <thead>\n",
       "    <tr style=\"text-align: right;\">\n",
       "      <th></th>\n",
       "      <th>x</th>\n",
       "      <th>e</th>\n",
       "      <th>a0</th>\n",
       "      <th>a1</th>\n",
       "      <th>a2</th>\n",
       "      <th>a3</th>\n",
       "      <th>y_observed</th>\n",
       "      <th>y_ground_truth</th>\n",
       "    </tr>\n",
       "  </thead>\n",
       "  <tbody>\n",
       "    <tr>\n",
       "      <th>0</th>\n",
       "      <td>0.000000</td>\n",
       "      <td>-79.0</td>\n",
       "      <td>-25.8234</td>\n",
       "      <td>9.1845</td>\n",
       "      <td>-0.559</td>\n",
       "      <td>0.004</td>\n",
       "      <td>-104.823400</td>\n",
       "      <td>-25.823400</td>\n",
       "    </tr>\n",
       "    <tr>\n",
       "      <th>1</th>\n",
       "      <td>1.010101</td>\n",
       "      <td>51.0</td>\n",
       "      <td>-25.8234</td>\n",
       "      <td>9.1845</td>\n",
       "      <td>-0.559</td>\n",
       "      <td>0.004</td>\n",
       "      <td>33.887645</td>\n",
       "      <td>-17.112355</td>\n",
       "    </tr>\n",
       "    <tr>\n",
       "      <th>2</th>\n",
       "      <td>2.020202</td>\n",
       "      <td>-56.0</td>\n",
       "      <td>-25.8234</td>\n",
       "      <td>9.1845</td>\n",
       "      <td>-0.559</td>\n",
       "      <td>0.004</td>\n",
       "      <td>-65.517275</td>\n",
       "      <td>-9.517275</td>\n",
       "    </tr>\n",
       "    <tr>\n",
       "      <th>3</th>\n",
       "      <td>3.030303</td>\n",
       "      <td>75.0</td>\n",
       "      <td>-25.8234</td>\n",
       "      <td>9.1845</td>\n",
       "      <td>-0.559</td>\n",
       "      <td>0.004</td>\n",
       "      <td>71.986574</td>\n",
       "      <td>-3.013426</td>\n",
       "    </tr>\n",
       "    <tr>\n",
       "      <th>4</th>\n",
       "      <td>4.040404</td>\n",
       "      <td>73.0</td>\n",
       "      <td>-25.8234</td>\n",
       "      <td>9.1845</td>\n",
       "      <td>-0.559</td>\n",
       "      <td>0.004</td>\n",
       "      <td>75.423928</td>\n",
       "      <td>2.423928</td>\n",
       "    </tr>\n",
       "  </tbody>\n",
       "</table>\n",
       "</div>"
      ],
      "text/plain": [
       "          x     e       a0      a1     a2     a3  y_observed  y_ground_truth\n",
       "0  0.000000 -79.0 -25.8234  9.1845 -0.559  0.004 -104.823400      -25.823400\n",
       "1  1.010101  51.0 -25.8234  9.1845 -0.559  0.004   33.887645      -17.112355\n",
       "2  2.020202 -56.0 -25.8234  9.1845 -0.559  0.004  -65.517275       -9.517275\n",
       "3  3.030303  75.0 -25.8234  9.1845 -0.559  0.004   71.986574       -3.013426\n",
       "4  4.040404  73.0 -25.8234  9.1845 -0.559  0.004   75.423928        2.423928"
      ]
     },
     "execution_count": 2,
     "metadata": {},
     "output_type": "execute_result"
    }
   ],
   "source": [
    "# These are the \"secret\" coefficients that linear regression will try to find.\n",
    "a0 = -25.8234\n",
    "a1 = 9.1845\n",
    "a2 = -0.559\n",
    "a3 = 0.004\n",
    "\n",
    "random.seed(91)\n",
    "\n",
    "# Generate evenly spaced x values in a list.\n",
    "x_range = 100\n",
    "x_length = 100\n",
    "myset_array = np.linspace(0, x_range, x_length)\n",
    "\n",
    "# Generate random error values in a list.\n",
    "error_range = 200\n",
    "error = random.sample(range(error_range), k=x_length)\n",
    "error_array = np.array(error)\n",
    "\n",
    "# Assemble and Transpose the data.\n",
    "data = [myset_array, error_array]\n",
    "dataT = np.transpose(data)\n",
    "\n",
    "# Assemble these lists into a pandas dataframe.\n",
    "df = pd.DataFrame(dataT, columns = [\"x\", \"e\"])\n",
    "\n",
    "# Modify the error values so they have a mean of zero.\n",
    "diff = error_range // 2\n",
    "df[\"e\"] = df[\"e\"] - diff\n",
    "\n",
    "# Add additional columns for a0 and a1 into the dataframe.\n",
    "df[\"a0\"] = a0\n",
    "df[\"a1\"] = a1\n",
    "df[\"a2\"] = a2\n",
    "df[\"a3\"] = a3\n",
    "\n",
    "# Calculate y values with the formula: y = a0 + a1*x + e\n",
    "df[\"y_observed\"] = df[\"a0\"] + \\\n",
    "        df[\"a1\"] * df[\"x\"] + \\\n",
    "        df[\"a2\"] * df[\"x\"] * df[\"x\"] + \\\n",
    "        df[\"a3\"] * df[\"x\"] * df[\"x\"] * df[\"x\"] + \\\n",
    "        df[\"e\"]\n",
    "\n",
    "# Also calculate the true y values (no error term).\n",
    "df[\"y_ground_truth\"] = df[\"y_observed\"] - df[\"e\"]\n",
    "\n",
    "# Print dataframe.\n",
    "df.head()"
   ]
  },
  {
   "cell_type": "code",
   "execution_count": 3,
   "metadata": {
    "scrolled": false
   },
   "outputs": [
    {
     "data": {
      "text/plain": [
       "<matplotlib.legend.Legend at 0x7f02e616d950>"
      ]
     },
     "execution_count": 3,
     "metadata": {},
     "output_type": "execute_result"
    },
    {
     "data": {
      "image/png": "[encoded data removed]",
      "text/plain": [
       "<Figure size 1080x360 with 1 Axes>"
      ]
     },
     "metadata": {
      "needs_background": "light"
     },
     "output_type": "display_data"
    }
   ],
   "source": [
    "# Plot the results.\n",
    "# Generate Figure object and Axes object with shape 3x1\n",
    "fig, axes = plt.subplots(nrows=1, ncols=1, figsize=(15,5))\n",
    "\n",
    "# [Row][Column]\n",
    "axes.set_title(\"Linear Data\")\n",
    "axes.set_ylabel(\"y\")\n",
    "axes.set_xlabel(\"x\")\n",
    "axes.scatter(df[\"x\"], df[\"y_observed\"], color=\"#005ff9\")\n",
    "axes.plot(df[\"x\"], df[\"y_ground_truth\"], color=\"#679ef7\", linewidth=4)\n",
    "axes.legend([\"Ground Truth\", \"Observations\"], loc=\"upper right\")"
   ]
  },
  {
   "cell_type": "markdown",
   "metadata": {},
   "source": [
    "## Polynomial Regression (Training)"
   ]
  },
  {
   "cell_type": "code",
   "execution_count": 4,
   "metadata": {},
   "outputs": [],
   "source": [
    "# Split the data into dependent and independ variables.\n",
    "x = df[\"x\"]\n",
    "y = df[\"y_observed\"]\n",
    "\n",
    "# Divide the data up for training and testing.\n",
    "x_train, x_test, y_train, y_test = train_test_split(x, y, test_size = 0.9)"
   ]
  },
  {
   "cell_type": "code",
   "execution_count": 5,
   "metadata": {},
   "outputs": [],
   "source": [
    "# Create the model.\n",
    "model = Pipeline([('poly', PolynomialFeatures(degree=3)),('linear', LinearRegression(fit_intercept=False))])\n",
    "\n",
    "# Train the model.\n",
    "model = model.fit(x_train[:, np.newaxis], y_train)\n",
    "\n",
    "# Extract predicted coefficients.\n",
    "a0_pred = model.named_steps['linear'].coef_[0]\n",
    "a1_pred = model.named_steps['linear'].coef_[1]\n",
    "a2_pred = model.named_steps['linear'].coef_[2]\n",
    "a3_pred = model.named_steps['linear'].coef_[3]"
   ]
  },
  {
   "cell_type": "code",
   "execution_count": 9,
   "metadata": {
    "scrolled": false
   },
   "outputs": [
    {
     "data": {
      "text/plain": [
       "<matplotlib.legend.Legend at 0x7f02e1773e50>"
      ]
     },
     "execution_count": 9,
     "metadata": {},
     "output_type": "execute_result"
    },
    {
     "data": {
      "image/png": "[encoded data removed]",
      "text/plain": [
       "<Figure size 1080x360 with 1 Axes>"
      ]
     },
     "metadata": {
      "needs_background": "light"
     },
     "output_type": "display_data"
    }
   ],
   "source": [
    "# Generate the fitted line.\n",
    "df[\"y_pred\"] = a0_pred + a1_pred * df[\"x\"] + \\\n",
    "        a2_pred * df[\"x\"] * df[\"x\"] + a3_pred * df[\"x\"] * df[\"x\"] * df[\"x\"]\n",
    "\n",
    "# Plot the results.\n",
    "fig, axes = plt.subplots(nrows=1, ncols=1, figsize=(15,5))\n",
    "\n",
    "axes.set_title(\"Polynomial Data\")\n",
    "axes.set_ylabel(\"y\")\n",
    "axes.set_xlabel(\"x\")\n",
    "axes.scatter(x_train, y_train, color=\"#005ff9\")\n",
    "axes.scatter(x_test, y_test, color=\"#00dcf9\")\n",
    "axes.plot(df[\"x\"], df[\"y_ground_truth\"], color=\"#679ef7\", linewidth=4)\n",
    "axes.plot(df[\"x\"], df[\"y_pred\"], color=\"#f9005f\", linewidth=4)\n",
    "axes.legend([\"Ground Truth\", \"Prediction\", \"Training Data\", \"Testing Data\"], loc=\"upper right\")"
   ]
  },
  {
   "cell_type": "markdown",
   "metadata": {},
   "source": [
    "## Measuring Model Performance (Testing)"
   ]
  },
  {
   "cell_type": "code",
   "execution_count": 7,
   "metadata": {},
   "outputs": [
    {
     "name": "stdout",
     "output_type": "stream",
     "text": [
      "a0_error: -57.38707082363721\n",
      "a1_error: 8.262610375426014\n",
      "a2_error: -0.222594615420313\n",
      "a3_error: 0.0015262449961252244\n",
      " \n",
      "mse_train: 875.7767027952416\n",
      "mse_test: 3973.077641101166\n"
     ]
    }
   ],
   "source": [
    "# How far off were the coefficients from their true values?\n",
    "a0_error = a0_pred - a0\n",
    "a1_error = a1_pred - a1\n",
    "a2_error = a2_pred - a2\n",
    "a3_error = a3_pred - a3\n",
    "print(\"a0_error:\", a0_error)\n",
    "print(\"a1_error:\", a1_error)\n",
    "print(\"a2_error:\", a2_error)\n",
    "print(\"a3_error:\", a3_error)\n",
    "print(\" \")\n",
    "\n",
    "# What was the mean squared error on the Training Data?\n",
    "predictions = model.predict(x_train[:, np.newaxis])\n",
    "mse_train = metrics.mean_squared_error(y_train[:, np.newaxis], predictions)\n",
    "print(\"mse_train:\", mse_train)\n",
    "\n",
    "# What was the mean squared error on the Testing Data?\n",
    "predictions = model.predict(x_test[:, np.newaxis])\n",
    "mse_test = metrics.mean_squared_error(y_test[:, np.newaxis], predictions)\n",
    "print(\"mse_test:\", mse_test)"
   ]
  },
  {
   "cell_type": "markdown",
   "metadata": {},
   "source": [
    "## Conclusion\n",
    "\n",
    "When we look at mean squared error for the training and testing datasets, we see that the error is usually larger for the testing data. This intuitively makes sense because our model has not seen this data beforehand."
   ]
  },
  {
   "cell_type": "code",
   "execution_count": 8,
   "metadata": {},
   "outputs": [
    {
     "data": {
      "text/html": [
       "<div>\n",
       "<style scoped>\n",
       "    .dataframe tbody tr th:only-of-type {\n",
       "        vertical-align: middle;\n",
       "    }\n",
       "\n",
       "    .dataframe tbody tr th {\n",
       "        vertical-align: top;\n",
       "    }\n",
       "\n",
       "    .dataframe thead th {\n",
       "        text-align: right;\n",
       "    }\n",
       "</style>\n",
       "<table border=\"1\" class=\"dataframe\">\n",
       "  <thead>\n",
       "    <tr style=\"text-align: right;\">\n",
       "      <th></th>\n",
       "      <th>x</th>\n",
       "      <th>e</th>\n",
       "      <th>a0</th>\n",
       "      <th>a1</th>\n",
       "      <th>a2</th>\n",
       "      <th>a3</th>\n",
       "      <th>y_observed</th>\n",
       "      <th>y_ground_truth</th>\n",
       "      <th>y_pred</th>\n",
       "    </tr>\n",
       "  </thead>\n",
       "  <tbody>\n",
       "    <tr>\n",
       "      <th>count</th>\n",
       "      <td>100.000000</td>\n",
       "      <td>100.000000</td>\n",
       "      <td>1.000000e+02</td>\n",
       "      <td>1.000000e+02</td>\n",
       "      <td>1.000000e+02</td>\n",
       "      <td>1.000000e+02</td>\n",
       "      <td>100.000000</td>\n",
       "      <td>100.000000</td>\n",
       "      <td>100.000000</td>\n",
       "    </tr>\n",
       "    <tr>\n",
       "      <th>mean</th>\n",
       "      <td>50.000000</td>\n",
       "      <td>-0.940000</td>\n",
       "      <td>-2.582340e+01</td>\n",
       "      <td>9.184500e+00</td>\n",
       "      <td>-5.590000e-01</td>\n",
       "      <td>4.000000e-03</td>\n",
       "      <td>-430.181498</td>\n",
       "      <td>-429.241498</td>\n",
       "      <td>-433.812082</td>\n",
       "    </tr>\n",
       "    <tr>\n",
       "      <th>std</th>\n",
       "      <td>29.304537</td>\n",
       "      <td>54.102002</td>\n",
       "      <td>4.284734e-14</td>\n",
       "      <td>1.249714e-14</td>\n",
       "      <td>8.926529e-16</td>\n",
       "      <td>2.615194e-18</td>\n",
       "      <td>335.682283</td>\n",
       "      <td>321.721038</td>\n",
       "      <td>336.662373</td>\n",
       "    </tr>\n",
       "    <tr>\n",
       "      <th>min</th>\n",
       "      <td>0.000000</td>\n",
       "      <td>-99.000000</td>\n",
       "      <td>-2.582340e+01</td>\n",
       "      <td>9.184500e+00</td>\n",
       "      <td>-5.590000e-01</td>\n",
       "      <td>4.000000e-03</td>\n",
       "      <td>-925.138363</td>\n",
       "      <td>-827.792719</td>\n",
       "      <td>-861.110622</td>\n",
       "    </tr>\n",
       "    <tr>\n",
       "      <th>25%</th>\n",
       "      <td>25.000000</td>\n",
       "      <td>-47.250000</td>\n",
       "      <td>-2.582340e+01</td>\n",
       "      <td>9.184500e+00</td>\n",
       "      <td>-5.590000e-01</td>\n",
       "      <td>4.000000e-03</td>\n",
       "      <td>-738.879770</td>\n",
       "      <td>-757.202355</td>\n",
       "      <td>-771.136251</td>\n",
       "    </tr>\n",
       "    <tr>\n",
       "      <th>50%</th>\n",
       "      <td>50.000000</td>\n",
       "      <td>1.000000</td>\n",
       "      <td>-2.582340e+01</td>\n",
       "      <td>9.184500e+00</td>\n",
       "      <td>-5.590000e-01</td>\n",
       "      <td>4.000000e-03</td>\n",
       "      <td>-482.169540</td>\n",
       "      <td>-464.087942</td>\n",
       "      <td>-474.048790</td>\n",
       "    </tr>\n",
       "    <tr>\n",
       "      <th>75%</th>\n",
       "      <td>75.000000</td>\n",
       "      <td>39.250000</td>\n",
       "      <td>-2.582340e+01</td>\n",
       "      <td>9.184500e+00</td>\n",
       "      <td>-5.590000e-01</td>\n",
       "      <td>4.000000e-03</td>\n",
       "      <td>-86.807774</td>\n",
       "      <td>-83.135835</td>\n",
       "      <td>-65.780890</td>\n",
       "    </tr>\n",
       "    <tr>\n",
       "      <th>max</th>\n",
       "      <td>100.000000</td>\n",
       "      <td>98.000000</td>\n",
       "      <td>-2.582340e+01</td>\n",
       "      <td>9.184500e+00</td>\n",
       "      <td>-5.590000e-01</td>\n",
       "      <td>4.000000e-03</td>\n",
       "      <td>104.701223</td>\n",
       "      <td>14.478967</td>\n",
       "      <td>23.634360</td>\n",
       "    </tr>\n",
       "  </tbody>\n",
       "</table>\n",
       "</div>"
      ],
      "text/plain": [
       "                x           e            a0            a1            a2  \\\n",
       "count  100.000000  100.000000  1.000000e+02  1.000000e+02  1.000000e+02   \n",
       "mean    50.000000   -0.940000 -2.582340e+01  9.184500e+00 -5.590000e-01   \n",
       "std     29.304537   54.102002  4.284734e-14  1.249714e-14  8.926529e-16   \n",
       "min      0.000000  -99.000000 -2.582340e+01  9.184500e+00 -5.590000e-01   \n",
       "25%     25.000000  -47.250000 -2.582340e+01  9.184500e+00 -5.590000e-01   \n",
       "50%     50.000000    1.000000 -2.582340e+01  9.184500e+00 -5.590000e-01   \n",
       "75%     75.000000   39.250000 -2.582340e+01  9.184500e+00 -5.590000e-01   \n",
       "max    100.000000   98.000000 -2.582340e+01  9.184500e+00 -5.590000e-01   \n",
       "\n",
       "                 a3  y_observed  y_ground_truth      y_pred  \n",
       "count  1.000000e+02  100.000000      100.000000  100.000000  \n",
       "mean   4.000000e-03 -430.181498     -429.241498 -433.812082  \n",
       "std    2.615194e-18  335.682283      321.721038  336.662373  \n",
       "min    4.000000e-03 -925.138363     -827.792719 -861.110622  \n",
       "25%    4.000000e-03 -738.879770     -757.202355 -771.136251  \n",
       "50%    4.000000e-03 -482.169540     -464.087942 -474.048790  \n",
       "75%    4.000000e-03  -86.807774      -83.135835  -65.780890  \n",
       "max    4.000000e-03  104.701223       14.478967   23.634360  "
      ]
     },
     "execution_count": 8,
     "metadata": {},
     "output_type": "execute_result"
    }
   ],
   "source": [
    "df.describe()"
   ]
  }
 ],
 "metadata": {
  "kernelspec": {
   "display_name": "Python 3",
   "language": "python",
   "name": "python3"
  },
  "language_info": {
   "codemirror_mode": {
    "name": "ipython",
    "version": 3
   },
   "file_extension": ".py",
   "mimetype": "text/x-python",
   "name": "python",
   "nbconvert_exporter": "python",
   "pygments_lexer": "ipython3",
   "version": "3.7.4"
  }
 },
 "nbformat": 4,
 "nbformat_minor": 4
}
