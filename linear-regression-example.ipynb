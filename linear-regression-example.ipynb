{
 "cells": [
  {
   "cell_type": "markdown",
   "metadata": {},
   "source": [
    "# Linear Regression Examples\n",
    "This notebook will show an example of using linear regression to find the coefficients of linear data (y = ax + b)."
   ]
  },
  {
   "cell_type": "markdown",
   "metadata": {},
   "source": [
    "## Imports"
   ]
  },
  {
   "cell_type": "code",
   "execution_count": 1,
   "metadata": {},
   "outputs": [
    {
     "name": "stdout",
     "output_type": "stream",
     "text": [
      "Imports Finished.\n"
     ]
    }
   ],
   "source": [
    "# Imports\n",
    "#import math # Testing values.\n",
    "import matplotlib.pyplot as plt # Plotting graphs.\n",
    "import pandas as pd # Data manipulation.\n",
    "import seaborn as sns; sns.set() # Only used for styling plots.\n",
    "import numpy as np # Arrays and matrices.\n",
    "import random # Generating data and error values.\n",
    "\n",
    "from sklearn.model_selection import train_test_split # Data tools.\n",
    "from sklearn.linear_model import LinearRegression # Linear regression.\n",
    "from sklearn import metrics # Scoring our model.\n",
    "\n",
    "%matplotlib inline\n",
    "\n",
    "print(\"Imports Finished.\")"
   ]
  },
  {
   "cell_type": "markdown",
   "metadata": {},
   "source": [
    "## Data Generation"
   ]
  },
  {
   "cell_type": "code",
   "execution_count": 2,
   "metadata": {},
   "outputs": [
    {
     "data": {
      "text/html": [
       "<div>\n",
       "<style scoped>\n",
       "    .dataframe tbody tr th:only-of-type {\n",
       "        vertical-align: middle;\n",
       "    }\n",
       "\n",
       "    .dataframe tbody tr th {\n",
       "        vertical-align: top;\n",
       "    }\n",
       "\n",
       "    .dataframe thead th {\n",
       "        text-align: right;\n",
       "    }\n",
       "</style>\n",
       "<table border=\"1\" class=\"dataframe\">\n",
       "  <thead>\n",
       "    <tr style=\"text-align: right;\">\n",
       "      <th></th>\n",
       "      <th>x</th>\n",
       "      <th>e</th>\n",
       "      <th>a0</th>\n",
       "      <th>a1</th>\n",
       "      <th>y_observed</th>\n",
       "      <th>y_ground_truth</th>\n",
       "    </tr>\n",
       "  </thead>\n",
       "  <tbody>\n",
       "    <tr>\n",
       "      <th>0</th>\n",
       "      <td>0.000000</td>\n",
       "      <td>82.0</td>\n",
       "      <td>-2540.8234</td>\n",
       "      <td>7.1845</td>\n",
       "      <td>-2458.823400</td>\n",
       "      <td>-2540.823400</td>\n",
       "    </tr>\n",
       "    <tr>\n",
       "      <th>1</th>\n",
       "      <td>1.010101</td>\n",
       "      <td>-5.0</td>\n",
       "      <td>-2540.8234</td>\n",
       "      <td>7.1845</td>\n",
       "      <td>-2538.566329</td>\n",
       "      <td>-2533.566329</td>\n",
       "    </tr>\n",
       "    <tr>\n",
       "      <th>2</th>\n",
       "      <td>2.020202</td>\n",
       "      <td>109.0</td>\n",
       "      <td>-2540.8234</td>\n",
       "      <td>7.1845</td>\n",
       "      <td>-2417.309259</td>\n",
       "      <td>-2526.309259</td>\n",
       "    </tr>\n",
       "    <tr>\n",
       "      <th>3</th>\n",
       "      <td>3.030303</td>\n",
       "      <td>-109.0</td>\n",
       "      <td>-2540.8234</td>\n",
       "      <td>7.1845</td>\n",
       "      <td>-2628.052188</td>\n",
       "      <td>-2519.052188</td>\n",
       "    </tr>\n",
       "    <tr>\n",
       "      <th>4</th>\n",
       "      <td>4.040404</td>\n",
       "      <td>240.0</td>\n",
       "      <td>-2540.8234</td>\n",
       "      <td>7.1845</td>\n",
       "      <td>-2271.795117</td>\n",
       "      <td>-2511.795117</td>\n",
       "    </tr>\n",
       "  </tbody>\n",
       "</table>\n",
       "</div>"
      ],
      "text/plain": [
       "          x      e         a0      a1   y_observed  y_ground_truth\n",
       "0  0.000000   82.0 -2540.8234  7.1845 -2458.823400    -2540.823400\n",
       "1  1.010101   -5.0 -2540.8234  7.1845 -2538.566329    -2533.566329\n",
       "2  2.020202  109.0 -2540.8234  7.1845 -2417.309259    -2526.309259\n",
       "3  3.030303 -109.0 -2540.8234  7.1845 -2628.052188    -2519.052188\n",
       "4  4.040404  240.0 -2540.8234  7.1845 -2271.795117    -2511.795117"
      ]
     },
     "execution_count": 2,
     "metadata": {},
     "output_type": "execute_result"
    }
   ],
   "source": [
    "# These are the \"secret\" coefficients that linear regression will try to find.\n",
    "a0 = -2540.8234\n",
    "a1 = 7.1845\n",
    "\n",
    "random.seed(27)\n",
    "\n",
    "# Generate evenly spaced x values in a list.\n",
    "x_range = 100\n",
    "x_length = 100\n",
    "myset_array = np.linspace(0, x_range, x_length)\n",
    "\n",
    "# Generate random error values in a list.\n",
    "error_range = 500\n",
    "error = random.sample(range(error_range), k=x_length)\n",
    "error_array = np.array(error)\n",
    "\n",
    "# Assemble and Transpose the data.\n",
    "data = [myset_array, error_array]\n",
    "dataT = np.transpose(data)\n",
    "\n",
    "# Assemble these lists into a pandas dataframe.\n",
    "df = pd.DataFrame(dataT, columns = [\"x\", \"e\"])\n",
    "\n",
    "# Modify the error values so they have a mean of zero.\n",
    "diff = error_range // 2\n",
    "df[\"e\"] = df[\"e\"] - diff\n",
    "\n",
    "# Add additional columns for a0 and a1 into the dataframe.\n",
    "df[\"a0\"] = a0\n",
    "df[\"a1\"] = a1\n",
    "\n",
    "# Calculate y values with the formula: y = a0 + a1*x + e\n",
    "df[\"y_observed\"] = df[\"a0\"] + df[\"a1\"] * df[\"x\"] + df[\"e\"]\n",
    "\n",
    "# Also calculate the true y values (no error term).\n",
    "df[\"y_ground_truth\"] = df[\"y_observed\"] - df[\"e\"]\n",
    "\n",
    "# Print dataframe.\n",
    "df.head()"
   ]
  },
  {
   "cell_type": "code",
   "execution_count": 3,
   "metadata": {},
   "outputs": [
    {
     "data": {
      "text/plain": [
       "<matplotlib.legend.Legend at 0x7efc562fa490>"
      ]
     },
     "execution_count": 3,
     "metadata": {},
     "output_type": "execute_result"
    },
    {
     "data": {
      "image/png": "[encoded data removed]",
      "text/plain": [
       "<Figure size 1080x360 with 1 Axes>"
      ]
     },
     "metadata": {
      "needs_background": "light"
     },
     "output_type": "display_data"
    }
   ],
   "source": [
    "# Plot the results.\n",
    "# Generate Figure object and Axes object with shape 3x1\n",
    "fig, axes = plt.subplots(nrows=1, ncols=1, figsize=(15,5))\n",
    "\n",
    "# [Row][Column]\n",
    "axes.set_title(\"Linear Data\")\n",
    "axes.set_ylabel(\"y\")\n",
    "axes.set_xlabel(\"x\")\n",
    "axes.scatter(df[\"x\"], df[\"y_observed\"], color=\"#005ff9\")\n",
    "axes.plot(df[\"x\"], df[\"y_ground_truth\"], color=\"#679ef7\", linewidth=4)\n",
    "#axes[0][0].fill_between(time_s, vsp, zeros, alpha=0.2, color=\"#005ff9\")\n",
    "axes.legend([\"Ground Truth\", \"Observations\"], loc=\"lower right\")"
   ]
  },
  {
   "cell_type": "markdown",
   "metadata": {},
   "source": [
    "## Linear Regression (Training)"
   ]
  },
  {
   "cell_type": "code",
   "execution_count": 4,
   "metadata": {},
   "outputs": [],
   "source": [
    "# Split the data into dependent and independ variables.\n",
    "x = df[\"x\"]\n",
    "y = df[\"y_observed\"]\n",
    "\n",
    "# Divide the data up for training and testing.\n",
    "x_train, x_test, y_train, y_test = train_test_split(x, y, test_size = 0.9)"
   ]
  },
  {
   "cell_type": "code",
   "execution_count": 5,
   "metadata": {},
   "outputs": [
    {
     "name": "stdout",
     "output_type": "stream",
     "text": [
      "a0_prediction: -2496.9062099708644\n",
      "a1_prediction: 5.983359825186139\n"
     ]
    }
   ],
   "source": [
    "# Create a model.\n",
    "model = LinearRegression()\n",
    "\n",
    "# Reshape the data, otherwise fit() fails.\n",
    "#x_train_array = np.array(x_train)\n",
    "#x_train_array = x_train_array.reshape((-1, 1))\n",
    "#y_train_array = np.array(y_train)\n",
    "#y_train_array = y_train_array.reshape((-1, 1))\n",
    "\n",
    "#x_test_array = np.array(x_test)\n",
    "#x_test_array = x_test_array.reshape((-1, 1))\n",
    "#y_test_array = np.array(y_test)\n",
    "#y_test_array = y_test_array.reshape((-1, 1))\n",
    "\n",
    "# Fit the model to the data.\n",
    "model = model.fit(x_train[:, np.newaxis], y_train)\n",
    "\n",
    "# Print learned model coefficients.\n",
    "a0_prediction = model.intercept_\n",
    "a1_prediction = model.coef_[0]\n",
    "\n",
    "print(\"a0_prediction:\", a0_prediction)\n",
    "print(\"a1_prediction:\", a1_prediction)"
   ]
  },
  {
   "cell_type": "code",
   "execution_count": 6,
   "metadata": {
    "scrolled": false
   },
   "outputs": [
    {
     "data": {
      "text/plain": [
       "<matplotlib.legend.Legend at 0x7efc5627f110>"
      ]
     },
     "execution_count": 6,
     "metadata": {},
     "output_type": "execute_result"
    },
    {
     "data": {
      "image/png": "[encoded data removed]",
      "text/plain": [
       "<Figure size 1080x360 with 1 Axes>"
      ]
     },
     "metadata": {
      "needs_background": "light"
     },
     "output_type": "display_data"
    }
   ],
   "source": [
    "# Generate the fitted line.\n",
    "df[\"y_pred\"] = a0_prediction + a1_prediction * df[\"x\"]\n",
    "\n",
    "# Plot the results.\n",
    "fig, axes = plt.subplots(nrows=1, ncols=1, figsize=(15,5))\n",
    "\n",
    "# [Row][Column]\n",
    "axes.set_title(\"Linear Data\")\n",
    "axes.set_ylabel(\"y\")\n",
    "axes.set_xlabel(\"x\")\n",
    "axes.scatter(x_train, y_train, color=\"#005ff9\")\n",
    "axes.scatter(x_test, y_test, color=\"#00dcf9\")\n",
    "axes.plot(df[\"x\"], df[\"y_ground_truth\"], color=\"#679ef7\", linewidth=4)\n",
    "axes.plot(df[\"x\"], df[\"y_pred\"], color=\"#f9005f\", linewidth=4)\n",
    "axes.legend([\"Ground Truth\", \"Prediction\", \"Training Data\", \"Testing Data\"], loc=\"lower right\")"
   ]
  },
  {
   "cell_type": "markdown",
   "metadata": {},
   "source": [
    "## Measuring Model Performance (Testing)"
   ]
  },
  {
   "cell_type": "code",
   "execution_count": 7,
   "metadata": {},
   "outputs": [
    {
     "name": "stdout",
     "output_type": "stream",
     "text": [
      "a0_error: 43.91719002913578\n",
      "a1_error: -1.2011401748138608\n",
      " \n",
      "mse_train: 16652.47395273552\n",
      "mse_test: 25050.593458952582\n"
     ]
    }
   ],
   "source": [
    "# How far off were the coefficients from their true values?\n",
    "a0_error = a0_prediction - a0\n",
    "a1_error = a1_prediction - a1\n",
    "print(\"a0_error:\", a0_error)\n",
    "print(\"a1_error:\", a1_error)\n",
    "print(\" \")\n",
    "\n",
    "# What was the mean squared error on the Training Data?\n",
    "predictions = model.predict(x_train[:, np.newaxis])\n",
    "mse_train = metrics.mean_squared_error(y_train[:, np.newaxis], predictions)\n",
    "print(\"mse_train:\", mse_train)\n",
    "\n",
    "# What was the mean squared error on the Testing Data?\n",
    "predictions = model.predict(x_test[:, np.newaxis])\n",
    "mse_test = metrics.mean_squared_error(y_test[:, np.newaxis], predictions)\n",
    "print(\"mse_test:\", mse_test)"
   ]
  },
  {
   "cell_type": "markdown",
   "metadata": {},
   "source": [
    "## Conclusion\n",
    "The a0_error tends to be larger than the a1_error. This means that our linear regression model is pretty good at finding the slope of the line, and not as good at finding the y-intercept.\n",
    "\n",
    "When we look at mean squared error for the training and testing datasets, we see that the error is usually larger for the testing data. This intuitively makes sense because our model has not seen this data beforehand."
   ]
  },
  {
   "cell_type": "code",
   "execution_count": 8,
   "metadata": {},
   "outputs": [
    {
     "data": {
      "text/html": [
       "<div>\n",
       "<style scoped>\n",
       "    .dataframe tbody tr th:only-of-type {\n",
       "        vertical-align: middle;\n",
       "    }\n",
       "\n",
       "    .dataframe tbody tr th {\n",
       "        vertical-align: top;\n",
       "    }\n",
       "\n",
       "    .dataframe thead th {\n",
       "        text-align: right;\n",
       "    }\n",
       "</style>\n",
       "<table border=\"1\" class=\"dataframe\">\n",
       "  <thead>\n",
       "    <tr style=\"text-align: right;\">\n",
       "      <th></th>\n",
       "      <th>x</th>\n",
       "      <th>e</th>\n",
       "      <th>a0</th>\n",
       "      <th>a1</th>\n",
       "      <th>y_observed</th>\n",
       "      <th>y_ground_truth</th>\n",
       "      <th>y_pred</th>\n",
       "    </tr>\n",
       "  </thead>\n",
       "  <tbody>\n",
       "    <tr>\n",
       "      <th>count</th>\n",
       "      <td>100.000000</td>\n",
       "      <td>100.000000</td>\n",
       "      <td>1.000000e+02</td>\n",
       "      <td>1.000000e+02</td>\n",
       "      <td>100.000000</td>\n",
       "      <td>100.000000</td>\n",
       "      <td>100.000000</td>\n",
       "    </tr>\n",
       "    <tr>\n",
       "      <th>mean</th>\n",
       "      <td>50.000000</td>\n",
       "      <td>10.510000</td>\n",
       "      <td>-2.540823e+03</td>\n",
       "      <td>7.184500e+00</td>\n",
       "      <td>-2171.088400</td>\n",
       "      <td>-2181.598400</td>\n",
       "      <td>-2197.738219</td>\n",
       "    </tr>\n",
       "    <tr>\n",
       "      <th>std</th>\n",
       "      <td>29.304537</td>\n",
       "      <td>149.139518</td>\n",
       "      <td>4.570383e-12</td>\n",
       "      <td>5.355917e-15</td>\n",
       "      <td>260.964790</td>\n",
       "      <td>210.538449</td>\n",
       "      <td>175.339591</td>\n",
       "    </tr>\n",
       "    <tr>\n",
       "      <th>min</th>\n",
       "      <td>0.000000</td>\n",
       "      <td>-244.000000</td>\n",
       "      <td>-2.540823e+03</td>\n",
       "      <td>7.184500e+00</td>\n",
       "      <td>-2703.023905</td>\n",
       "      <td>-2540.823400</td>\n",
       "      <td>-2496.906210</td>\n",
       "    </tr>\n",
       "    <tr>\n",
       "      <th>25%</th>\n",
       "      <td>25.000000</td>\n",
       "      <td>-116.250000</td>\n",
       "      <td>-2.540823e+03</td>\n",
       "      <td>7.184500e+00</td>\n",
       "      <td>-2324.662036</td>\n",
       "      <td>-2361.210900</td>\n",
       "      <td>-2347.322214</td>\n",
       "    </tr>\n",
       "    <tr>\n",
       "      <th>50%</th>\n",
       "      <td>50.000000</td>\n",
       "      <td>-4.000000</td>\n",
       "      <td>-2.540823e+03</td>\n",
       "      <td>7.184500e+00</td>\n",
       "      <td>-2174.484006</td>\n",
       "      <td>-2181.598400</td>\n",
       "      <td>-2197.738219</td>\n",
       "    </tr>\n",
       "    <tr>\n",
       "      <th>75%</th>\n",
       "      <td>75.000000</td>\n",
       "      <td>147.500000</td>\n",
       "      <td>-2.540823e+03</td>\n",
       "      <td>7.184500e+00</td>\n",
       "      <td>-1968.207617</td>\n",
       "      <td>-2001.985900</td>\n",
       "      <td>-2048.154223</td>\n",
       "    </tr>\n",
       "    <tr>\n",
       "      <th>max</th>\n",
       "      <td>100.000000</td>\n",
       "      <td>249.000000</td>\n",
       "      <td>-2.540823e+03</td>\n",
       "      <td>7.184500e+00</td>\n",
       "      <td>-1624.658754</td>\n",
       "      <td>-1822.373400</td>\n",
       "      <td>-1898.570227</td>\n",
       "    </tr>\n",
       "  </tbody>\n",
       "</table>\n",
       "</div>"
      ],
      "text/plain": [
       "                x           e            a0            a1   y_observed  \\\n",
       "count  100.000000  100.000000  1.000000e+02  1.000000e+02   100.000000   \n",
       "mean    50.000000   10.510000 -2.540823e+03  7.184500e+00 -2171.088400   \n",
       "std     29.304537  149.139518  4.570383e-12  5.355917e-15   260.964790   \n",
       "min      0.000000 -244.000000 -2.540823e+03  7.184500e+00 -2703.023905   \n",
       "25%     25.000000 -116.250000 -2.540823e+03  7.184500e+00 -2324.662036   \n",
       "50%     50.000000   -4.000000 -2.540823e+03  7.184500e+00 -2174.484006   \n",
       "75%     75.000000  147.500000 -2.540823e+03  7.184500e+00 -1968.207617   \n",
       "max    100.000000  249.000000 -2.540823e+03  7.184500e+00 -1624.658754   \n",
       "\n",
       "       y_ground_truth       y_pred  \n",
       "count      100.000000   100.000000  \n",
       "mean     -2181.598400 -2197.738219  \n",
       "std        210.538449   175.339591  \n",
       "min      -2540.823400 -2496.906210  \n",
       "25%      -2361.210900 -2347.322214  \n",
       "50%      -2181.598400 -2197.738219  \n",
       "75%      -2001.985900 -2048.154223  \n",
       "max      -1822.373400 -1898.570227  "
      ]
     },
     "execution_count": 8,
     "metadata": {},
     "output_type": "execute_result"
    }
   ],
   "source": [
    "df.describe()"
   ]
  }
 ],
 "metadata": {
  "kernelspec": {
   "display_name": "Python 3",
   "language": "python",
   "name": "python3"
  },
  "language_info": {
   "codemirror_mode": {
    "name": "ipython",
    "version": 3
   },
   "file_extension": ".py",
   "mimetype": "text/x-python",
   "name": "python",
   "nbconvert_exporter": "python",
   "pygments_lexer": "ipython3",
   "version": "3.7.6"
  }
 },
 "nbformat": 4,
 "nbformat_minor": 4
}
